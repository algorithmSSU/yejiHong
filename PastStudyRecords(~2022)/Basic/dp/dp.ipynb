{
 "cells": [
  {
   "attachments": {},
   "cell_type": "markdown",
   "metadata": {},
   "source": [
    "### 1. 다이나믹 프로그래밍(동적계획법)\n",
    "- 큰 문제를 풀기 위해서 작은 문제를 풀어 나가는 방식\n",
    "- 작은 문제에서 반복이 없다\n",
    "- 하나의 문제를 단 한번만 푼다"
   ]
  },
  {
   "attachments": {},
   "cell_type": "markdown",
   "metadata": {},
   "source": [
    "### 2. 다이나믹 프로그래밍 조건\n",
    "1. 큰 문제를 작은 문제로 나눌 수 있다.\n",
    "2. 작은문제에서 구한 정답은 이것을 포함한 큰 문제에서도 동일한 정답이다."
   ]
  },
  {
   "attachments": {},
   "cell_type": "markdown",
   "metadata": {},
   "source": [
    "### 3. 어떻게 구현??\n",
    "작은 문제에서 계산된 결과 값을 배열에 저장\n",
    "나중에 큰 문제에서 동일한 계산을 요구할 때 저장된 값 불러오기"
   ]
  },
  {
   "attachments": {},
   "cell_type": "markdown",
   "metadata": {},
   "source": [
    "### 4. TOP-DOWN / BOTTOM-UP  => 2가지 방식\n",
    "\n",
    "TOP-DOWN (하향식)\n",
    "재귀문으로 표현\n",
    "\n",
    "BOTTOM-UP (상향식)\n",
    "반복문으로 표현"
   ]
  }
 ],
 "metadata": {
  "kernelspec": {
   "display_name": "Python 3",
   "language": "python",
   "name": "python3"
  },
  "language_info": {
   "name": "python",
   "version": "3.9.6 (default, May  7 2023, 23:32:44) \n[Clang 14.0.3 (clang-1403.0.22.14.1)]"
  },
  "orig_nbformat": 4,
  "vscode": {
   "interpreter": {
    "hash": "31f2aee4e71d21fbe5cf8b01ff0e069b9275f58929596ceb00d14d90e3e16cd6"
   }
  }
 },
 "nbformat": 4,
 "nbformat_minor": 2
}
